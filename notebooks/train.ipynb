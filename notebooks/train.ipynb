{
 "cells": [
  {
   "cell_type": "code",
   "execution_count": 4,
   "id": "6a82bb58",
   "metadata": {},
   "outputs": [],
   "source": [
    "import sys\n",
    "sys.path.append(\"utils\")\n",
    "from ipynb.fs.full.average_meter import Meters"
   ]
  },
  {
   "cell_type": "code",
   "execution_count": 5,
   "id": "a8406be5",
   "metadata": {},
   "outputs": [],
   "source": [
    "import time\n",
    "import torch"
   ]
  },
  {
   "cell_type": "code",
   "execution_count": 7,
   "id": "b44b829e",
   "metadata": {},
   "outputs": [],
   "source": [
    "def train(train_loader, model, criterion, optimizer, epoch, epochs):\n",
    "    \n",
    "    model.train()\n",
    "    # Inicialitzem els valors per a les metriques\n",
    "    batch_time = Meters()\n",
    "    data_time = Meters()\n",
    "    losses = Meters()\n",
    "    end = time.time()\n",
    "    \n",
    "    for i, (input_gray, input_ab, target) in enumerate(train_loader):\n",
    "        # Temps de registre per carregar dades\n",
    "        data_time.update(time.time() - end)\n",
    "        \n",
    "        # Utilitzem GPU si esta habilitada\n",
    "        if torch.cuda.is_available(): \n",
    "            input_gray = input_gray.cuda()\n",
    "            input_ab = input_ab.cuda()\n",
    "            target = target.cuda()\n",
    "\n",
    "        # Apliquem model i calculem la loss\n",
    "        output_ab = model(input_gray)\n",
    "        loss = criterion(output_ab, input_ab)\n",
    "        losses.update(loss.item(), input_gray.size(0))\n",
    "\n",
    "        # Calculem l'optimizer i gradient\n",
    "        optimizer.zero_grad()\n",
    "        loss.backward()\n",
    "        optimizer.step()\n",
    "\n",
    "        # Mirem el temps que triga\n",
    "        batch_time.update(time.time() - end)\n",
    "        end = time.time()\n",
    "\n",
    "        # Mostrem resultats\n",
    "        if i % 25 == 0:\n",
    "            print(\"Epoch : {}/{}, Train loss = {loss.avg:.4f}, Time = {batch_time.avg:.3f}\".format(epoch + 1 , epochs, loss=losses, batch_time=batch_time))\n",
    "\n",
    "    return losses.avg"
   ]
  },
  {
   "cell_type": "code",
   "execution_count": null,
   "id": "1fe5affe",
   "metadata": {},
   "outputs": [],
   "source": []
  }
 ],
 "metadata": {
  "kernelspec": {
   "display_name": "Python 3 (ipykernel)",
   "language": "python",
   "name": "python3"
  },
  "language_info": {
   "codemirror_mode": {
    "name": "ipython",
    "version": 3
   },
   "file_extension": ".py",
   "mimetype": "text/x-python",
   "name": "python",
   "nbconvert_exporter": "python",
   "pygments_lexer": "ipython3",
   "version": "3.8.16"
  }
 },
 "nbformat": 4,
 "nbformat_minor": 5
}
