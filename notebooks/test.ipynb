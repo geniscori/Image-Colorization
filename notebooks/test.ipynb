{
 "cells": [
  {
   "cell_type": "code",
   "execution_count": null,
   "id": "50d4a0c0",
   "metadata": {},
   "outputs": [],
   "source": [
    "import sys\n",
    "sys.path.append(\"utils\")\n",
    "from ipynb.fs.full.average_meter import Meters\n",
    "from ipynb.fs.full.to_rgb import to_rgb"
   ]
  },
  {
   "cell_type": "code",
   "execution_count": null,
   "id": "8c488a31",
   "metadata": {},
   "outputs": [],
   "source": [
    "import time\n",
    "import torch"
   ]
  },
  {
   "cell_type": "code",
   "execution_count": null,
   "id": "c430d274",
   "metadata": {},
   "outputs": [],
   "source": [
    "def test(test_loader, model, criterion, save_images=True):\n",
    "    \n",
    "    model.eval()\n",
    "    # Inicialitzem els valors per a les metriques\n",
    "    batch_time = Meters()\n",
    "    data_time = Meters()\n",
    "    losses = Meters()\n",
    "    end = time.time()\n",
    "    already_saved_images = False\n",
    "    \n",
    "    \n",
    "    for i, (input_gray, input_ab, target) in enumerate(test_loader):\n",
    "        # Temps de registre per carregar dades\n",
    "        data_time.update(time.time() - end)\n",
    "\n",
    "        # Utilitzem GPU si esta habilitada\n",
    "        if torch.cuda.is_available(): \n",
    "            input_gray = input_gray.cuda()\n",
    "            input_ab = input_ab.cuda()\n",
    "            target = target.cuda()\n",
    "            \n",
    "        # Apliquem model i calculem la loss\n",
    "        output_ab = model(input_gray) \n",
    "        loss = criterion(output_ab, input_ab)\n",
    "        losses.update(loss.item(), input_gray.size(0))\n",
    "\n",
    "        # Guardem imatges\n",
    "        if save_images and not already_saved_images:\n",
    "            already_saved_images = True\n",
    "            for j in range(min(len(output_ab), 10)):\n",
    "                save_path = {'grayscale': 'test/gray/', 'colorized': 'test/color/'}\n",
    "                save_name = 'imatge{}_test.jpg'.format(i * test_loader.batch_size+j)\n",
    "                to_rgb(input_gray[j].cpu(), ab_input=output_ab[j].detach().cpu(), save_path=save_path, save_name=save_name)\n",
    "\n",
    "        # Mirem el temps que triga\n",
    "        batch_time.update(time.time() - end)\n",
    "        end = time.time()\n",
    "\n",
    "        # Mostrem resultats\n",
    "        if i % 25 == 0:\n",
    "            print(\"Test loss = {loss.avg:.4f}, Time = {batch_time.avg:.3f}\".format(loss=losses, batch_time=batch_time))\n",
    "\n",
    "    return losses.avg"
   ]
  }
 ],
 "metadata": {
  "kernelspec": {
   "display_name": "Python 3 (ipykernel)",
   "language": "python",
   "name": "python3"
  },
  "language_info": {
   "codemirror_mode": {
    "name": "ipython",
    "version": 3
   },
   "file_extension": ".py",
   "mimetype": "text/x-python",
   "name": "python",
   "nbconvert_exporter": "python",
   "pygments_lexer": "ipython3",
   "version": "3.8.16"
  }
 },
 "nbformat": 4,
 "nbformat_minor": 5
}
