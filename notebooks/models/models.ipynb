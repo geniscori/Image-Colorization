{
 "cells": [
  {
   "cell_type": "code",
   "execution_count": 9,
   "id": "34d605e7",
   "metadata": {},
   "outputs": [],
   "source": [
    "import torch\n",
    "import torch.nn as nn\n",
    "import torch.nn.functional as F\n",
    "import torchvision.models as models"
   ]
  },
  {
   "cell_type": "code",
   "execution_count": 10,
   "id": "d0269f82",
   "metadata": {},
   "outputs": [],
   "source": [
    "class CNNColor(nn.Module):\n",
    "    def __init__(self, input_size=128):\n",
    "        super(CNNColor, self).__init__()\n",
    "\n",
    "        # Apliquem ResNet18 per extreure les caracteriestiques de nivell mig \n",
    "        resnet = models.resnet18(num_classes=365)\n",
    "        resnet.conv1.weight = nn.Parameter(resnet.conv1.weight.sum(dim=1).unsqueeze(1))\n",
    "        self.ResNet18 = nn.Sequential(*list(resnet.children())[0:6])\n",
    "        \n",
    "        self.conv1 = nn.Conv2d(128, 128, kernel_size=3, stride=1, padding=1)\n",
    "        self.bn1 = nn.BatchNorm2d(128)\n",
    "        self.relu1 = nn.ReLU()\n",
    "        self.upsample1 = nn.Upsample(scale_factor=2)\n",
    "        self.conv2 = nn.Conv2d(128, 64, kernel_size=3, stride=1, padding=1)\n",
    "        self.bn2 = nn.BatchNorm2d(64)\n",
    "        self.relu2 = nn.ReLU()\n",
    "        self.conv3 = nn.Conv2d(64, 64, kernel_size=3, stride=1, padding=1)\n",
    "        self.bn3 = nn.BatchNorm2d(64)\n",
    "        self.relu3 = nn.ReLU()\n",
    "        self.upsample2 = nn.Upsample(scale_factor=2)\n",
    "        self.conv4 = nn.Conv2d(64, 32, kernel_size=3, stride=1, padding=1)\n",
    "        self.bn4 = nn.BatchNorm2d(32)\n",
    "        self.relu4 = nn.ReLU()\n",
    "        self.conv5 = nn.Conv2d(32, 2, kernel_size=3, stride=1, padding=1)\n",
    "        self.upsample3 = nn.Upsample(scale_factor=2)\n",
    "\n",
    "    def forward(self, input):\n",
    "        \n",
    "        #  Extraiem les caracteristiques de les gray features\n",
    "        gray_features = self.ResNet18(input)\n",
    "\n",
    "        # Apliquem el Upsample per conseguir color\n",
    "        # Pas 1\n",
    "        x = self.conv1(gray_features)\n",
    "        x = self.bn1(x)\n",
    "        x = self.relu1(x)\n",
    "        x = self.upsample1(x)\n",
    "        # Pas 2\n",
    "        x = self.conv2(x)\n",
    "        x = self.bn2(x)\n",
    "        x = self.relu2(x)\n",
    "        # Pas 3\n",
    "        x = self.conv3(x)\n",
    "        x = self.bn3(x)\n",
    "        x = self.relu3(x)\n",
    "        # Pas 4\n",
    "        x = self.upsample2(x)\n",
    "        # Pas 5\n",
    "        x = self.conv4(x)\n",
    "        x = self.bn4(x)\n",
    "        x = self.relu4(x)\n",
    "        # Pas 6\n",
    "        x = self.conv5(x)\n",
    "        # Pas 7\n",
    "        output = self.upsample3(x)\n",
    "\n",
    "        return output"
   ]
  }
 ],
 "metadata": {
  "kernelspec": {
   "display_name": "Python 3 (ipykernel)",
   "language": "python",
   "name": "python3"
  },
  "language_info": {
   "codemirror_mode": {
    "name": "ipython",
    "version": 3
   },
   "file_extension": ".py",
   "mimetype": "text/x-python",
   "name": "python",
   "nbconvert_exporter": "python",
   "pygments_lexer": "ipython3",
   "version": "3.8.16"
  }
 },
 "nbformat": 4,
 "nbformat_minor": 5
}
