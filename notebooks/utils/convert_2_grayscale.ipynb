{
 "cells": [
  {
   "cell_type": "code",
   "execution_count": 1,
   "id": "dac5dbdc",
   "metadata": {},
   "outputs": [],
   "source": [
    "from skimage.color import rgb2lab, rgb2gray\n",
    "from torchvision import datasets\n",
    "import numpy as np\n",
    "import torch"
   ]
  },
  {
   "cell_type": "code",
   "execution_count": 2,
   "id": "9b9521c8",
   "metadata": {},
   "outputs": [],
   "source": [
    "# Funció que converteix les imatges de color a blanc i negre \n",
    "class Convert2Grayscale(datasets.ImageFolder):\n",
    "    \n",
    "    def __getitem__(self, i):\n",
    "        # Obtenim imatge i carreguem\n",
    "        path, target = self.imgs[i]\n",
    "        imgage = self.loader(path)\n",
    "\n",
    "        if self.transform is not None:\n",
    "            original = self.transform(imgage)\n",
    "            \n",
    "            # Pasem a np\n",
    "            original = np.asarray(original) \n",
    "            \n",
    "            # Pasem a escala LAB i normalitzem \n",
    "            imgageLAB = rgb2lab(original) \n",
    "            imgageLAB = (imgageLAB + 128) / 255\n",
    "            img = imgageLAB[:, :, 1:3]\n",
    "            \n",
    "            # Transposem i ho pasem a  un tensor\n",
    "            img = torch.from_numpy(img.transpose((2, 0, 1))).float()  \n",
    "            \n",
    "            # Passem a escala grisos (lluminositat)\n",
    "            original = rgb2gray(original)\n",
    "            original = torch.from_numpy(original).unsqueeze(0).float() # Arreglem dimensionalitat\n",
    "\n",
    "        if self.target_transform is not None:\n",
    "            target = self.target_transform(target)\n",
    "\n",
    "        return original, img, target"
   ]
  },
  {
   "cell_type": "code",
   "execution_count": null,
   "id": "4a14f55e",
   "metadata": {},
   "outputs": [],
   "source": []
  }
 ],
 "metadata": {
  "kernelspec": {
   "display_name": "Python 3 (ipykernel)",
   "language": "python",
   "name": "python3"
  },
  "language_info": {
   "codemirror_mode": {
    "name": "ipython",
    "version": 3
   },
   "file_extension": ".py",
   "mimetype": "text/x-python",
   "name": "python",
   "nbconvert_exporter": "python",
   "pygments_lexer": "ipython3",
   "version": "3.8.16"
  }
 },
 "nbformat": 4,
 "nbformat_minor": 5
}
