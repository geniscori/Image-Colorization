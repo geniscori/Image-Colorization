{
 "cells": [
  {
   "cell_type": "code",
   "execution_count": 5,
   "id": "86032a2d",
   "metadata": {},
   "outputs": [],
   "source": [
    "import os"
   ]
  },
  {
   "cell_type": "code",
   "execution_count": 6,
   "id": "0583ec3b",
   "metadata": {},
   "outputs": [],
   "source": [
    "def create_result_folders():\n",
    "    # Separem en diferents fitxers\n",
    "    os.makedirs('outputs/color', exist_ok=True)\n",
    "    os.makedirs('outputs/gray', exist_ok=True)\n",
    "    os.makedirs('test/gray', exist_ok=True)\n",
    "    os.makedirs('test/color', exist_ok=True)\n",
    "    os.makedirs('checkpoints', exist_ok=True)\n",
    "    os.makedirs('outputs/gray', exist_ok=True)"
   ]
  },
  {
   "cell_type": "code",
   "execution_count": null,
   "id": "7af1767d",
   "metadata": {},
   "outputs": [],
   "source": []
  }
 ],
 "metadata": {
  "kernelspec": {
   "display_name": "Python 3 (ipykernel)",
   "language": "python",
   "name": "python3"
  },
  "language_info": {
   "codemirror_mode": {
    "name": "ipython",
    "version": 3
   },
   "file_extension": ".py",
   "mimetype": "text/x-python",
   "name": "python",
   "nbconvert_exporter": "python",
   "pygments_lexer": "ipython3",
   "version": "3.8.16"
  }
 },
 "nbformat": 4,
 "nbformat_minor": 5
}
