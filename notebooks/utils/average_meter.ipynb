{
 "cells": [
  {
   "cell_type": "code",
   "execution_count": 1,
   "id": "ae7acd38",
   "metadata": {},
   "outputs": [],
   "source": [
    "class Meters(object):\n",
    "    # Calculem contadors de valors i temporitzadors\n",
    "    def __init__(self):\n",
    "        self.reset()\n",
    "    \n",
    "    def reset(self):\n",
    "        # Reiniciem valors\n",
    "        self.count = 0\n",
    "        self.sum = 0\n",
    "        self.avg = 0\n",
    "        self.val = 0\n",
    "        \n",
    "    def update(self, val, num=1):\n",
    "        # Actualitzem\n",
    "        self.count += num\n",
    "        self.sum += val * num\n",
    "        self.avg = self.sum / self.count\n",
    "        self.val = val"
   ]
  },
  {
   "cell_type": "code",
   "execution_count": null,
   "id": "a5a71772",
   "metadata": {},
   "outputs": [],
   "source": []
  }
 ],
 "metadata": {
  "kernelspec": {
   "display_name": "Python 3 (ipykernel)",
   "language": "python",
   "name": "python3"
  },
  "language_info": {
   "codemirror_mode": {
    "name": "ipython",
    "version": 3
   },
   "file_extension": ".py",
   "mimetype": "text/x-python",
   "name": "python",
   "nbconvert_exporter": "python",
   "pygments_lexer": "ipython3",
   "version": "3.8.16"
  }
 },
 "nbformat": 4,
 "nbformat_minor": 5
}
