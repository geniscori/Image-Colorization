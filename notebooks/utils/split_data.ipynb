{
 "cells": [
  {
   "cell_type": "code",
   "execution_count": 1,
   "id": "e59995bc",
   "metadata": {},
   "outputs": [],
   "source": [
    "import splitfolders"
   ]
  },
  {
   "cell_type": "code",
   "execution_count": 2,
   "id": "2243c828",
   "metadata": {},
   "outputs": [],
   "source": [
    "def split_data (input_folder,output=\"data/faces_images/split_images\",train_ratio=.8, val_ratio=.2):\n",
    "    # Dividim les dades en training i validation\n",
    "    # amb una proporcio de 0.8 i 0.2 respectivament\n",
    "\n",
    "    splitfolders.ratio(input_folder,\n",
    "                       output=output,\n",
    "                       seed=42,\n",
    "                       ratio=(train_ratio, val_ratio), \n",
    "                       group_prefix=None) "
   ]
  },
  {
   "cell_type": "code",
   "execution_count": null,
   "id": "9dd24843",
   "metadata": {},
   "outputs": [],
   "source": []
  }
 ],
 "metadata": {
  "kernelspec": {
   "display_name": "Python 3 (ipykernel)",
   "language": "python",
   "name": "python3"
  },
  "language_info": {
   "codemirror_mode": {
    "name": "ipython",
    "version": 3
   },
   "file_extension": ".py",
   "mimetype": "text/x-python",
   "name": "python",
   "nbconvert_exporter": "python",
   "pygments_lexer": "ipython3",
   "version": "3.8.16"
  }
 },
 "nbformat": 4,
 "nbformat_minor": 5
}
