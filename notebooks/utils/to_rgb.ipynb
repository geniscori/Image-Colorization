{
 "cells": [
  {
   "cell_type": "code",
   "execution_count": 2,
   "id": "62a6cba9",
   "metadata": {},
   "outputs": [],
   "source": [
    "import torch\n",
    "import matplotlib.pyplot as plt\n",
    "from skimage.color import lab2rgb\n",
    "import numpy as np"
   ]
  },
  {
   "cell_type": "code",
   "execution_count": 3,
   "id": "e2b2ee1d",
   "metadata": {},
   "outputs": [],
   "source": [
    "def to_rgb(grayscale_input, ab_input, save_path=None, save_name=None):\n",
    "    \n",
    "    plt.clf() # clear matplotlib\n",
    "    \n",
    "    # Passem a numpy\n",
    "    color_image = torch.cat((grayscale_input, ab_input), 0).numpy()\n",
    "    # Transposem i reescalem\n",
    "    color_image = color_image.transpose((1, 2, 0))\n",
    "    color_image[:, :, 0:1] = color_image[:, :, 0:1] * 100\n",
    "    \n",
    "    # Normalitzem la imatge\n",
    "    color_image[:, :, 1:3] = color_image[:, :, 1:3] * 255 - 128  \n",
    "    \n",
    "    # Pasem a l'escala RGB i tornem a pasar-lo a numpy\n",
    "    color_image = lab2rgb(color_image.astype(np.float64))\n",
    "    grayscale_input = grayscale_input.squeeze().numpy()\n",
    "\n",
    "    if save_path is not None and save_name is not None:\n",
    "        plt.imsave(arr=grayscale_input, fname='{}{}'.format(save_path['grayscale'], save_name), cmap='gray')\n",
    "        plt.imsave(arr=color_image, fname='{}{}'.format(save_path['colorized'], save_name))"
   ]
  },
  {
   "cell_type": "code",
   "execution_count": null,
   "id": "463d4094",
   "metadata": {},
   "outputs": [],
   "source": []
  }
 ],
 "metadata": {
  "kernelspec": {
   "display_name": "Python 3 (ipykernel)",
   "language": "python",
   "name": "python3"
  },
  "language_info": {
   "codemirror_mode": {
    "name": "ipython",
    "version": 3
   },
   "file_extension": ".py",
   "mimetype": "text/x-python",
   "name": "python",
   "nbconvert_exporter": "python",
   "pygments_lexer": "ipython3",
   "version": "3.8.16"
  }
 },
 "nbformat": 4,
 "nbformat_minor": 5
}
